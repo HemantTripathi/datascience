{
 "cells": [
  {
   "cell_type": "markdown",
   "metadata": {},
   "source": [
    "## NumPy Basics 2.1"
   ]
  },
  {
   "cell_type": "code",
   "execution_count": 1,
   "metadata": {},
   "outputs": [],
   "source": [
    "import numpy as np"
   ]
  },
  {
   "cell_type": "code",
   "execution_count": 2,
   "metadata": {},
   "outputs": [
    {
     "name": "stdout",
     "output_type": "stream",
     "text": [
      "-1.0\n",
      "1.1\n",
      "5.2\n"
     ]
    }
   ],
   "source": [
    "print(np.cos(np.pi))\n",
    "print(np.sqrt(1.21))\n",
    "print(np.log(np.exp(5.2)))"
   ]
  },
  {
   "cell_type": "markdown",
   "metadata": {},
   "source": [
    "### Vectors and Matrics"
   ]
  },
  {
   "cell_type": "code",
   "execution_count": 3,
   "metadata": {},
   "outputs": [
    {
     "name": "stdout",
     "output_type": "stream",
     "text": [
      "[1 2 3] \n",
      "\n",
      "[[1 2 3]\n",
      " [4 5 6]\n",
      " [7 8 9]] \n",
      "\n",
      "[[1 4 7]\n",
      " [2 5 8]\n",
      " [3 6 9]]\n"
     ]
    }
   ],
   "source": [
    "vec = np.array([1,2,3])\n",
    "mat = np.array([[1,2,3],[4,5,6],[7,8,9]])\n",
    "\n",
    "print(vec,'\\n')\n",
    "print(mat,'\\n')\n",
    "print(mat.T)"
   ]
  },
  {
   "cell_type": "code",
   "execution_count": 4,
   "metadata": {},
   "outputs": [
    {
     "name": "stdout",
     "output_type": "stream",
     "text": [
      "[ 0  1  2  3  4  5  6  7  8  9 10 11 12 13 14]\n",
      "[ 3  6  9 12 15]\n"
     ]
    }
   ],
   "source": [
    "vec2 = np.arange(0,15)\n",
    "print(vec2)\n",
    "vec3 = np.arange(3,17,3)\n",
    "print(vec3)"
   ]
  },
  {
   "cell_type": "code",
   "execution_count": 5,
   "metadata": {},
   "outputs": [
    {
     "name": "stdout",
     "output_type": "stream",
     "text": [
      "[0.         0.55555556 1.11111111 1.66666667 2.22222222 2.77777778\n",
      " 3.33333333 3.88888889 4.44444444 5.        ] \n",
      "\n",
      "[[0.         0.55555556]\n",
      " [1.11111111 1.66666667]\n",
      " [2.22222222 2.77777778]\n",
      " [3.33333333 3.88888889]\n",
      " [4.44444444 5.        ]] \n",
      "\n",
      "[0.         0.55555556 1.11111111 1.66666667 2.22222222 2.77777778\n",
      " 3.33333333 3.88888889 4.44444444 5.        ]\n"
     ]
    }
   ],
   "source": [
    "vec4 = np.linspace(0,5,10)\n",
    "print(vec4,'\\n')\n",
    "vec4_reshaped = vec4.reshape(5,2)\n",
    "print(vec4_reshaped,'\\n')\n",
    "print(vec4)"
   ]
  },
  {
   "cell_type": "code",
   "execution_count": 6,
   "metadata": {},
   "outputs": [
    {
     "name": "stdout",
     "output_type": "stream",
     "text": [
      "[[0. 0. 0.]\n",
      " [0. 0. 0.]\n",
      " [0. 0. 0.]\n",
      " [0. 0. 0.]\n",
      " [0. 0. 0.]] \n",
      "\n",
      "[[1. 1. 1. 1. 1.]\n",
      " [1. 1. 1. 1. 1.]\n",
      " [1. 1. 1. 1. 1.]] \n",
      "\n",
      "[[1. 0. 0. 0. 0.]\n",
      " [0. 1. 0. 0. 0.]\n",
      " [0. 0. 1. 0. 0.]\n",
      " [0. 0. 0. 1. 0.]\n",
      " [0. 0. 0. 0. 1.]]\n"
     ]
    }
   ],
   "source": [
    "mat2 = np.zeros([5,3])\n",
    "print(mat2,'\\n')\n",
    "mat3 = np.ones((3,5)) #either we can use [] or () both are fine\n",
    "print(mat3,'\\n')\n",
    "mat4 = np.eye(5) #identity matrix\n",
    "print(mat4)"
   ]
  },
  {
   "cell_type": "markdown",
   "metadata": {},
   "source": [
    "### Operations:"
   ]
  },
  {
   "cell_type": "code",
   "execution_count": 7,
   "metadata": {},
   "outputs": [
    {
     "name": "stdout",
     "output_type": "stream",
     "text": [
      "[1 2 3 4 5]\n",
      "[3 4 5 6 7]\n",
      "[ 4  6  8 10 12]\n",
      "[ 3  8 15 24 35]\n",
      "[1.         0.5        0.33333333 0.25       0.2       ]\n",
      "[1.73205081 2.         2.23606798 2.44948974 2.64575131]\n"
     ]
    }
   ],
   "source": [
    "vec5 = np.arange(1,6)\n",
    "vec6 = np.arange(3,8)\n",
    "print(vec5)\n",
    "print(vec6)\n",
    "print(vec5+vec6)\n",
    "print(vec5*vec6)\n",
    "print(1/vec5)\n",
    "print(np.sqrt(vec6))"
   ]
  },
  {
   "cell_type": "code",
   "execution_count": 8,
   "metadata": {},
   "outputs": [
    {
     "name": "stdout",
     "output_type": "stream",
     "text": [
      "[[1 2 3]\n",
      " [4 5 6]\n",
      " [7 8 9]] \n",
      "\n",
      "[1 2 3] \n",
      "\n",
      "[14 32 50]\n"
     ]
    }
   ],
   "source": [
    "#Matrix multiplication\n",
    "print(mat,'\\n')\n",
    "print(vec,'\\n')\n",
    "product = np.matmul(mat,vec)\n",
    "print(product)"
   ]
  },
  {
   "cell_type": "code",
   "execution_count": 9,
   "metadata": {},
   "outputs": [
    {
     "name": "stdout",
     "output_type": "stream",
     "text": [
      "[-0.8  5.6  1.2] \n",
      "\n",
      "[[ 3.15251974e+15 -6.30503948e+15  3.15251974e+15]\n",
      " [-6.30503948e+15  1.26100790e+16 -6.30503948e+15]\n",
      " [ 3.15251974e+15 -6.30503948e+15  3.15251974e+15]]\n"
     ]
    }
   ],
   "source": [
    "# Need to check\n",
    "print(np.linalg.solve(mat,product),'\\n')\n",
    "print(np.linalg.inv(mat))"
   ]
  },
  {
   "cell_type": "code",
   "execution_count": 10,
   "metadata": {},
   "outputs": [
    {
     "name": "stdout",
     "output_type": "stream",
     "text": [
      "['blue' 'red' 'orange' 'purple' 'purple' 'orange' 'Red' '6']\n",
      "[1 5 2 6 8 6]\n",
      "['6' 'Red' 'blue' 'orange' 'purple' 'red']\n"
     ]
    }
   ],
   "source": [
    "vec7 = np.array(['blue','red','orange','purple','purple','orange','Red',6])\n",
    "vec7_1 = np.array([1,5,2,6,8,6])\n",
    "print(vec7)\n",
    "print(vec7_1)\n",
    "print (np.unique(vec7))"
   ]
  },
  {
   "cell_type": "code",
   "execution_count": 11,
   "metadata": {},
   "outputs": [
    {
     "name": "stdout",
     "output_type": "stream",
     "text": [
      "[[0.06980965 0.04332432 0.48453441 0.37258624 0.77987981]\n",
      " [0.05728532 0.48789538 0.42652687 0.00243639 0.14433355]\n",
      " [0.88163496 0.44024458 0.28692008 0.94286271 0.63568482]\n",
      " [0.32316457 0.57502597 0.16066403 0.69679869 0.3183468 ]\n",
      " [0.48129762 0.21583251 0.71351631 0.61757222 0.58746028]] \n",
      "\n",
      "[[-0.52086723  0.0945049   1.17048834  0.72856192 -0.1829605 ]\n",
      " [ 0.56310221  1.23458427 -0.70012184  2.12617157 -0.79454001]\n",
      " [-0.09638831 -0.10884355 -1.28286347  0.89149078  0.31429159]\n",
      " [ 0.22397172 -1.14553707  0.79022081  1.07603243 -0.69624794]\n",
      " [ 0.14376004  0.12432375 -0.0763623  -0.42264716  0.93901336]\n",
      " [-0.24966372  0.21109868  0.43316208  0.76139025 -2.15366072]\n",
      " [-1.18164541 -0.84471025  0.38369433  0.21937084 -0.84149525]\n",
      " [ 0.84014711  2.22058366 -1.88895698 -1.97971284  1.06503851]\n",
      " [ 0.80850547 -0.91722305 -1.28738613 -1.36830142  0.25156219]\n",
      " [ 1.1430072   1.1193079  -1.49511273 -0.12182598  0.59615279]] \n",
      "\n"
     ]
    }
   ],
   "source": [
    "rand_mat = np.random.rand(5,5)\n",
    "print(rand_mat,'\\n')\n",
    "rand_mat2 = np.random.randn(10,5)\n",
    "print(rand_mat2,'\\n')"
   ]
  },
  {
   "cell_type": "code",
   "execution_count": 12,
   "metadata": {},
   "outputs": [
    {
     "name": "stdout",
     "output_type": "stream",
     "text": [
      "0.42982552350782255\n",
      "1.0002698171172453\n"
     ]
    }
   ],
   "source": [
    "print(np.mean(rand_mat))\n",
    "print(np.std(rand_mat2))"
   ]
  },
  {
   "cell_type": "code",
   "execution_count": 13,
   "metadata": {},
   "outputs": [
    {
     "name": "stdout",
     "output_type": "stream",
     "text": [
      "0.00243638845862737\n",
      "2.2205836646409898\n"
     ]
    }
   ],
   "source": [
    "print(np.min(rand_mat))\n",
    "print(np.max(rand_mat2))"
   ]
  },
  {
   "cell_type": "markdown",
   "metadata": {},
   "source": [
    "## NumPy Basics 2.2"
   ]
  },
  {
   "cell_type": "code",
   "execution_count": 14,
   "metadata": {},
   "outputs": [
    {
     "name": "stdout",
     "output_type": "stream",
     "text": [
      "[-1.82595582  0.74500285  0.31284754 -2.00817771  0.36091951  0.43292024\n",
      " -1.28885304 -0.10818301 -0.44481122 -1.52179405  0.31626582  2.27437866\n",
      "  0.36370106  0.89088296 -1.50238669 -0.59130893  0.06513794 -1.34009672\n",
      " -1.58010394]\n",
      "0.31284754439457024\n"
     ]
    }
   ],
   "source": [
    "rand_vec = np.random.randn(19)\n",
    "print(rand_vec)\n",
    "print(rand_vec[2]) #vector can be accessible by indexes"
   ]
  },
  {
   "cell_type": "code",
   "execution_count": 15,
   "metadata": {},
   "outputs": [
    {
     "name": "stdout",
     "output_type": "stream",
     "text": [
      "[ 0.36091951  0.43292024 -1.28885304 -0.10818301 -0.44481122]\n"
     ]
    }
   ],
   "source": [
    "#We can access multiple entries at once using :\n",
    "print(rand_vec[4:9]) # where 4-> inclusive and 9->Exclusive"
   ]
  },
  {
   "cell_type": "code",
   "execution_count": 16,
   "metadata": {},
   "outputs": [
    {
     "name": "stdout",
     "output_type": "stream",
     "text": [
      "[ 0  3  6  9 12]\n",
      "[-1.82595582 -2.00817771 -1.28885304 -1.52179405  0.36370106]\n"
     ]
    }
   ],
   "source": [
    "# Access multiple non-consucutive entries\n",
    "print(np.arange(0,15,3))\n",
    "print(rand_vec[np.arange(0,15,3)])"
   ]
  },
  {
   "cell_type": "code",
   "execution_count": 17,
   "metadata": {},
   "outputs": [
    {
     "name": "stdout",
     "output_type": "stream",
     "text": [
      "[[0.06980965 0.04332432 0.48453441 0.37258624 0.77987981]\n",
      " [0.05728532 0.48789538 0.42652687 0.00243639 0.14433355]\n",
      " [0.88163496 0.44024458 0.28692008 0.94286271 0.63568482]\n",
      " [0.32316457 0.57502597 0.16066403 0.69679869 0.3183468 ]\n",
      " [0.48129762 0.21583251 0.71351631 0.61757222 0.58746028]]\n",
      "0.42652687157151226\n",
      "0.42652687157151226\n"
     ]
    }
   ],
   "source": [
    "print(rand_mat)\n",
    "print(rand_mat[1][2])\n",
    "print(rand_mat[1,2])"
   ]
  },
  {
   "cell_type": "code",
   "execution_count": 18,
   "metadata": {},
   "outputs": [
    {
     "name": "stdout",
     "output_type": "stream",
     "text": [
      "[[0.04332432 0.48453441]\n",
      " [0.48789538 0.42652687]]\n"
     ]
    }
   ],
   "source": [
    "print(rand_mat[0:2,1:3]) # submatrics can also be accessible"
   ]
  },
  {
   "cell_type": "code",
   "execution_count": 19,
   "metadata": {},
   "outputs": [
    {
     "name": "stdout",
     "output_type": "stream",
     "text": [
      "[-1.82595582  0.74500285  0.31284754 -2.00817771  0.36091951  0.43292024\n",
      " -1.28885304 -0.10818301 -0.44481122 -1.52179405  0.31626582  2.27437866\n",
      "  0.36370106  0.89088296 -1.50238669 -0.59130893  0.06513794 -1.34009672\n",
      " -1.58010394] \n",
      "\n",
      "[-1.82595582  0.74500285  0.31284754  4.          4.          0.43292024\n",
      " -1.28885304 -0.10818301 -0.44481122 -1.52179405  0.31626582  2.27437866\n",
      "  0.36370106  0.89088296 -1.50238669 -0.59130893  0.06513794 -1.34009672\n",
      " -1.58010394] \n",
      "\n",
      "[-1.82595582  0.74500285  0.31284754  1.          2.          0.43292024\n",
      " -1.28885304 -0.10818301 -0.44481122 -1.52179405  0.31626582  2.27437866\n",
      "  0.36370106  0.89088296 -1.50238669 -0.59130893  0.06513794 -1.34009672\n",
      " -1.58010394]\n"
     ]
    }
   ],
   "source": [
    "# Lets changes some values in array\n",
    "print(rand_vec,'\\n')\n",
    "rand_vec[3:5] = 4\n",
    "\n",
    "print(rand_vec,'\\n')\n",
    "rand_vec[3:5] = [1,2]\n",
    "print(rand_vec)\n"
   ]
  },
  {
   "cell_type": "code",
   "execution_count": 20,
   "metadata": {},
   "outputs": [
    {
     "name": "stdout",
     "output_type": "stream",
     "text": [
      "[[0.06980965 0.04332432 0.48453441 0.37258624 0.77987981]\n",
      " [0.05728532 0.48789538 0.42652687 0.00243639 0.14433355]\n",
      " [0.88163496 0.44024458 0.28692008 0.94286271 0.63568482]\n",
      " [0.32316457 0.57502597 0.16066403 0.69679869 0.3183468 ]\n",
      " [0.48129762 0.21583251 0.71351631 0.61757222 0.58746028]]\n",
      "\n",
      "[[0.06980965 0.04332432 0.48453441 0.37258624 0.77987981]\n",
      " [0.05728532 0.48789538 0.42652687 0.         0.        ]\n",
      " [0.88163496 0.44024458 0.28692008 0.         0.        ]\n",
      " [0.32316457 0.57502597 0.16066403 0.69679869 0.3183468 ]\n",
      " [0.48129762 0.21583251 0.71351631 0.61757222 0.58746028]]\n"
     ]
    }
   ],
   "source": [
    "print(rand_mat)\n",
    "rand_mat[1:3,3:5] = 0\n",
    "print('')\n",
    "print(rand_mat)\n"
   ]
  },
  {
   "cell_type": "code",
   "execution_count": 21,
   "metadata": {},
   "outputs": [
    {
     "name": "stdout",
     "output_type": "stream",
     "text": [
      "[[0.06980965 0.04332432 0.48453441]\n",
      " [0.05728532 0.48789538 0.42652687]]\n",
      "[[3. 3. 3.]\n",
      " [3. 3. 3.]]\n"
     ]
    }
   ],
   "source": [
    "sub_mat = rand_mat[0:2,0:3]\n",
    "print(sub_mat)\n",
    "sub_mat[:] = 3\n",
    "print(sub_mat)\n"
   ]
  },
  {
   "cell_type": "code",
   "execution_count": 22,
   "metadata": {},
   "outputs": [
    {
     "name": "stdout",
     "output_type": "stream",
     "text": [
      "[[3.         3.         3.         0.37258624 0.77987981]\n",
      " [3.         3.         3.         0.         0.        ]\n",
      " [0.88163496 0.44024458 0.28692008 0.         0.        ]\n",
      " [0.32316457 0.57502597 0.16066403 0.69679869 0.3183468 ]\n",
      " [0.48129762 0.21583251 0.71351631 0.61757222 0.58746028]]\n"
     ]
    }
   ],
   "source": [
    "print(rand_mat)"
   ]
  },
  {
   "cell_type": "code",
   "execution_count": 23,
   "metadata": {},
   "outputs": [
    {
     "name": "stdout",
     "output_type": "stream",
     "text": [
      "[[3. 3. 3.]\n",
      " [3. 3. 3.]] \n",
      "\n",
      "[[99. 99. 99.]\n",
      " [99. 99. 99.]] \n",
      "\n",
      "[[3.         3.         3.         0.37258624 0.77987981]\n",
      " [3.         3.         3.         0.         0.        ]\n",
      " [0.88163496 0.44024458 0.28692008 0.         0.        ]\n",
      " [0.32316457 0.57502597 0.16066403 0.69679869 0.3183468 ]\n",
      " [0.48129762 0.21583251 0.71351631 0.61757222 0.58746028]]\n"
     ]
    }
   ],
   "source": [
    "sub_mat2 = rand_mat[0:2,0:3].copy()\n",
    "print(sub_mat2,'\\n')\n",
    "sub_mat2[:] = 99\n",
    "print(sub_mat2,'\\n')\n",
    "print(rand_mat)"
   ]
  },
  {
   "cell_type": "code",
   "execution_count": 24,
   "metadata": {},
   "outputs": [
    {
     "name": "stdout",
     "output_type": "stream",
     "text": [
      "[10 13 16 19]\n"
     ]
    }
   ],
   "source": [
    "#Asked in non-graded McQ\n",
    "p1 = np.arange(10,20)\n",
    "p2 = p1[np.arange(0,10,3)]\n",
    "print(p2)"
   ]
  },
  {
   "cell_type": "markdown",
   "metadata": {},
   "source": [
    "## NumPy Basics 2.3"
   ]
  },
  {
   "cell_type": "code",
   "execution_count": 25,
   "metadata": {},
   "outputs": [
    {
     "name": "stdout",
     "output_type": "stream",
     "text": [
      "[ 1.44277983  0.28503724 -1.84555373  0.52226151 -0.13733371  0.34014607\n",
      " -0.51928412 -1.39766569 -1.65281561  1.13679774  0.7522295   0.94342316\n",
      " -1.49640826 -0.31897516 -0.64321265] \n",
      "\n",
      "[ True  True False  True False  True False False False  True  True  True\n",
      " False False False] \n",
      "\n",
      "[1.44277983 0.28503724 0.52226151 0.34014607 1.13679774 0.7522295\n",
      " 0.94342316]\n"
     ]
    }
   ],
   "source": [
    "#access entries with logicals\n",
    "rand_vec = np.random.randn(15)\n",
    "\n",
    "print(rand_vec,'\\n')\n",
    "print(rand_vec>0,'\\n') #this will return true and false\n",
    "print(rand_vec[rand_vec > 0]) #This will retrun the result array which has values Greater than Zero"
   ]
  },
  {
   "cell_type": "code",
   "execution_count": 26,
   "metadata": {},
   "outputs": [
    {
     "name": "stdout",
     "output_type": "stream",
     "text": [
      "[[-0.52086723  0.0945049   1.17048834  0.72856192 -0.1829605 ]\n",
      " [ 0.56310221  1.23458427 -0.70012184  2.12617157 -0.79454001]\n",
      " [-0.09638831 -0.10884355 -1.28286347  0.89149078  0.31429159]\n",
      " [ 0.22397172 -1.14553707  0.79022081  1.07603243 -0.69624794]\n",
      " [ 0.14376004  0.12432375 -0.0763623  -0.42264716  0.93901336]\n",
      " [-0.24966372  0.21109868  0.43316208  0.76139025 -2.15366072]\n",
      " [-1.18164541 -0.84471025  0.38369433  0.21937084 -0.84149525]\n",
      " [ 0.84014711  2.22058366 -1.88895698 -1.97971284  1.06503851]\n",
      " [ 0.80850547 -0.91722305 -1.28738613 -1.36830142  0.25156219]\n",
      " [ 1.1430072   1.1193079  -1.49511273 -0.12182598  0.59615279]] \n",
      "\n",
      "[0.0945049  1.17048834 0.72856192 0.56310221 1.23458427 2.12617157\n",
      " 0.89149078 0.31429159 0.22397172 0.79022081 1.07603243 0.14376004\n",
      " 0.12432375 0.93901336 0.21109868 0.43316208 0.76139025 0.38369433\n",
      " 0.21937084 0.84014711 2.22058366 1.06503851 0.80850547 0.25156219\n",
      " 1.1430072  1.1193079  0.59615279]\n"
     ]
    }
   ],
   "source": [
    "#lets verify the same on matrices\n",
    "print(rand_mat2,'\\n')\n",
    "print(rand_mat2[rand_mat2>0])"
   ]
  },
  {
   "cell_type": "code",
   "execution_count": 27,
   "metadata": {},
   "outputs": [
    {
     "name": "stdout",
     "output_type": "stream",
     "text": [
      "[ 1.44277983  0.28503724 -1.84555373  0.52226151 -0.13733371  0.34014607\n",
      " -0.51928412 -1.39766569 -1.65281561  1.13679774  0.7522295   0.94342316\n",
      " -1.49640826 -0.31897516 -0.64321265] \n",
      "\n",
      "[-5.          0.28503724 -1.84555373 -5.         -0.13733371  0.34014607\n",
      " -0.51928412 -1.39766569 -1.65281561 -5.         -5.         -5.\n",
      " -1.49640826 -0.31897516 -0.64321265] \n",
      "\n"
     ]
    }
   ],
   "source": [
    "#Lets update the values \n",
    "print(rand_vec,'\\n')\n",
    "rand_vec[rand_vec>0.5] = -5\n",
    "print(rand_vec,'\\n')\n"
   ]
  },
  {
   "cell_type": "code",
   "execution_count": 28,
   "metadata": {},
   "outputs": [],
   "source": [
    "#Lets save numPy array to the disk to use it later\n",
    "# there are 2 ways by which we can save\n",
    "# 1: using this we can save only 1 file\n",
    "\n",
    "np.save('saved_file_name',rand_mat2)\n",
    "\n",
    "# saved_file_name.npy: this is extention by which file is saved in workspace"
   ]
  },
  {
   "cell_type": "code",
   "execution_count": 29,
   "metadata": {},
   "outputs": [],
   "source": [
    "# 2: using this we can save multiple file, Z here is zippped file \n",
    "# rand_mat_content & rand_mat_content2 = name of the file we want to define in save_zipped_file\n",
    "# rand_mat & rand_mat2 are the actual matrices that we are saving within it\n",
    "\n",
    "np.savez('save_zipped_file',rand_mat_content = rand_mat, rand_mat_content2 = rand_mat2)\n",
    "\n",
    "# save_zipped_file.npz: this is extention by which file is saved in workspace"
   ]
  },
  {
   "cell_type": "code",
   "execution_count": 30,
   "metadata": {},
   "outputs": [
    {
     "name": "stdout",
     "output_type": "stream",
     "text": [
      "[[-0.52086723  0.0945049   1.17048834  0.72856192 -0.1829605 ]\n",
      " [ 0.56310221  1.23458427 -0.70012184  2.12617157 -0.79454001]\n",
      " [-0.09638831 -0.10884355 -1.28286347  0.89149078  0.31429159]\n",
      " [ 0.22397172 -1.14553707  0.79022081  1.07603243 -0.69624794]\n",
      " [ 0.14376004  0.12432375 -0.0763623  -0.42264716  0.93901336]\n",
      " [-0.24966372  0.21109868  0.43316208  0.76139025 -2.15366072]\n",
      " [-1.18164541 -0.84471025  0.38369433  0.21937084 -0.84149525]\n",
      " [ 0.84014711  2.22058366 -1.88895698 -1.97971284  1.06503851]\n",
      " [ 0.80850547 -0.91722305 -1.28738613 -1.36830142  0.25156219]\n",
      " [ 1.1430072   1.1193079  -1.49511273 -0.12182598  0.59615279]] \n",
      "\n",
      "<numpy.lib.npyio.NpzFile object at 0x7fcdaa20fa90> \n",
      "\n"
     ]
    }
   ],
   "source": [
    "# Lets load the files now\n",
    "loaded_vec = np.load('saved_file_name.npy')\n",
    "loaded_zip = np.load('save_zipped_file.npz')\n",
    "print(loaded_vec,'\\n')\n",
    "print(loaded_zip,'\\n') #will get some weired output for file location"
   ]
  },
  {
   "cell_type": "code",
   "execution_count": 31,
   "metadata": {},
   "outputs": [
    {
     "name": "stdout",
     "output_type": "stream",
     "text": [
      "[[3.         3.         3.         0.37258624 0.77987981]\n",
      " [3.         3.         3.         0.         0.        ]\n",
      " [0.88163496 0.44024458 0.28692008 0.         0.        ]\n",
      " [0.32316457 0.57502597 0.16066403 0.69679869 0.3183468 ]\n",
      " [0.48129762 0.21583251 0.71351631 0.61757222 0.58746028]] \n",
      "\n",
      "[[-0.52086723  0.0945049   1.17048834  0.72856192 -0.1829605 ]\n",
      " [ 0.56310221  1.23458427 -0.70012184  2.12617157 -0.79454001]\n",
      " [-0.09638831 -0.10884355 -1.28286347  0.89149078  0.31429159]\n",
      " [ 0.22397172 -1.14553707  0.79022081  1.07603243 -0.69624794]\n",
      " [ 0.14376004  0.12432375 -0.0763623  -0.42264716  0.93901336]\n",
      " [-0.24966372  0.21109868  0.43316208  0.76139025 -2.15366072]\n",
      " [-1.18164541 -0.84471025  0.38369433  0.21937084 -0.84149525]\n",
      " [ 0.84014711  2.22058366 -1.88895698 -1.97971284  1.06503851]\n",
      " [ 0.80850547 -0.91722305 -1.28738613 -1.36830142  0.25156219]\n",
      " [ 1.1430072   1.1193079  -1.49511273 -0.12182598  0.59615279]] \n",
      "\n",
      "[[3.         3.         3.         0.37258624 0.77987981]\n",
      " [3.         3.         3.         0.         0.        ]\n",
      " [0.88163496 0.44024458 0.28692008 0.         0.        ]\n",
      " [0.32316457 0.57502597 0.16066403 0.69679869 0.3183468 ]\n",
      " [0.48129762 0.21583251 0.71351631 0.61757222 0.58746028]]\n"
     ]
    }
   ],
   "source": [
    "# To load the zip file properly we should do following way\n",
    "\n",
    "print(loaded_zip['rand_mat_content'],'\\n')\n",
    "print(loaded_zip['rand_mat_content2'],'\\n')\n",
    "\n",
    "new_array = loaded_zip['rand_mat_content']\n",
    "print(new_array)\n"
   ]
  },
  {
   "cell_type": "code",
   "execution_count": 32,
   "metadata": {},
   "outputs": [
    {
     "name": "stdout",
     "output_type": "stream",
     "text": [
      "[[3.         3.         3.         0.37258624 0.77987981]\n",
      " [3.         3.         3.         0.         0.        ]\n",
      " [0.88163496 0.44024458 0.28692008 0.         0.        ]\n",
      " [0.32316457 0.57502597 0.16066403 0.69679869 0.3183468 ]\n",
      " [0.48129762 0.21583251 0.71351631 0.61757222 0.58746028]] \n",
      "\n",
      "[[3.         3.         3.         0.37258624 0.77987981]\n",
      " [3.         3.         3.         0.         0.        ]\n",
      " [0.88163496 0.44024458 0.28692008 0.         0.        ]\n",
      " [0.32316457 0.57502597 0.16066403 0.69679869 0.3183468 ]\n",
      " [0.48129762 0.21583251 0.71351631 0.61757222 0.58746028]] \n",
      "\n"
     ]
    }
   ],
   "source": [
    "#If we want to save out python array as a text file we can also do that\n",
    "np.savetxt('text_file_name.txt',rand_mat, delimiter = ',')\n",
    "rand_mat_txt = np.loadtxt('text_file_name.txt',delimiter = ',')\n",
    "print(rand_mat, '\\n')\n",
    "print(rand_mat_txt,'\\n')"
   ]
  }
 ],
 "metadata": {
  "kernelspec": {
   "display_name": "Python 3",
   "language": "python",
   "name": "python3"
  },
  "language_info": {
   "codemirror_mode": {
    "name": "ipython",
    "version": 3
   },
   "file_extension": ".py",
   "mimetype": "text/x-python",
   "name": "python",
   "nbconvert_exporter": "python",
   "pygments_lexer": "ipython3",
   "version": "3.7.6"
  }
 },
 "nbformat": 4,
 "nbformat_minor": 4
}
