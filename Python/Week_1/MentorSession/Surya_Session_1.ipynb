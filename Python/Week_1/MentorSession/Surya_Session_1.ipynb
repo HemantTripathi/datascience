{
 "cells": [
  {
   "cell_type": "markdown",
   "metadata": {},
   "source": [
    "## Loops"
   ]
  },
  {
   "cell_type": "code",
   "execution_count": 7,
   "metadata": {},
   "outputs": [
    {
     "name": "stdout",
     "output_type": "stream",
     "text": [
      "Square of 1 is 1\n",
      "Square of 2 is 4\n",
      "Square of 3 is 9\n",
      "Square of 4 is 16\n",
      "Square of 5 is 25\n",
      "Square of 6 is 36\n",
      "Square of 7 is 49\n",
      "Square of 8 is 64\n",
      "Square of 9 is 81\n"
     ]
    }
   ],
   "source": [
    "simple_list = [1,2,3,4,5,6,7,8,9]\n",
    "for i in simple_list:\n",
    "    print('Square of {} is {}'.format(i,i*i))"
   ]
  },
  {
   "cell_type": "markdown",
   "metadata": {},
   "source": [
    "### Determine if the number is even or not"
   ]
  },
  {
   "cell_type": "code",
   "execution_count": 8,
   "metadata": {},
   "outputs": [
    {
     "name": "stdout",
     "output_type": "stream",
     "text": [
      "Square of number 0 is 0\n",
      "Square of number 2 is 4\n",
      "Square of number 4 is 16\n",
      "Square of number 6 is 36\n",
      "Square of number 8 is 64\n",
      "Square of number 10 is 100\n",
      "Square of number 12 is 144\n",
      "Square of number 14 is 196\n",
      "Square of number 16 is 256\n",
      "Square of number 18 is 324\n",
      "Square of number 20 is 400\n",
      "Square of number 22 is 484\n",
      "Square of number 24 is 576\n",
      "Square of number 26 is 676\n",
      "Square of number 28 is 784\n",
      "Square of number 30 is 900\n",
      "Square of number 32 is 1024\n",
      "Square of number 34 is 1156\n",
      "Square of number 36 is 1296\n",
      "Square of number 38 is 1444\n",
      "Square of number 40 is 1600\n",
      "Square of number 42 is 1764\n",
      "Square of number 44 is 1936\n",
      "Square of number 46 is 2116\n",
      "Square of number 48 is 2304\n",
      "Square of number 50 is 2500\n",
      "Square of number 52 is 2704\n",
      "Square of number 54 is 2916\n",
      "Square of number 56 is 3136\n",
      "Square of number 58 is 3364\n",
      "Square of number 60 is 3600\n",
      "Square of number 62 is 3844\n",
      "Square of number 64 is 4096\n",
      "Square of number 66 is 4356\n",
      "Square of number 68 is 4624\n",
      "Square of number 70 is 4900\n",
      "Square of number 72 is 5184\n",
      "Square of number 74 is 5476\n",
      "Square of number 76 is 5776\n",
      "Square of number 78 is 6084\n",
      "Square of number 80 is 6400\n",
      "Square of number 82 is 6724\n",
      "Square of number 84 is 7056\n",
      "Square of number 86 is 7396\n",
      "Square of number 88 is 7744\n",
      "Square of number 90 is 8100\n",
      "Square of number 92 is 8464\n",
      "Square of number 94 is 8836\n",
      "Square of number 96 is 9216\n",
      "Square of number 98 is 9604\n",
      "Square of number 100 is 10000\n"
     ]
    }
   ],
   "source": [
    "i = 0\n",
    "while(i <= 100):\n",
    "    if(i % 2 == 0):\n",
    "        print('Square of number {} is {}'.format(i,i*i))\n",
    "    i = i+1\n",
    "    "
   ]
  }
 ],
 "metadata": {
  "kernelspec": {
   "display_name": "Python 3",
   "language": "python",
   "name": "python3"
  },
  "language_info": {
   "codemirror_mode": {
    "name": "ipython",
    "version": 3
   },
   "file_extension": ".py",
   "mimetype": "text/x-python",
   "name": "python",
   "nbconvert_exporter": "python",
   "pygments_lexer": "ipython3",
   "version": "3.7.6"
  }
 },
 "nbformat": 4,
 "nbformat_minor": 4
}
