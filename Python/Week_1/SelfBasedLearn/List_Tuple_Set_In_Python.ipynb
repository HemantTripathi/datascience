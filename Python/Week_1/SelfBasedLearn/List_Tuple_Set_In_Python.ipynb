{
 "cells": [
  {
   "cell_type": "code",
   "execution_count": 7,
   "metadata": {},
   "outputs": [
    {
     "name": "stdout",
     "output_type": "stream",
     "text": [
      "['Hemant', 4, 45, 2.71, True]\n",
      "['Hemant', 'Tripathi', 45, 2.71, True]\n"
     ]
    }
   ],
   "source": [
    "simple_list = ['Hemant',4,45,2.71,True]\n",
    "print(simple_list)\n",
    "simple_list[1] = 'Tripathi'\n",
    "print(simple_list)\n"
   ]
  },
  {
   "cell_type": "code",
   "execution_count": 12,
   "metadata": {},
   "outputs": [
    {
     "name": "stdout",
     "output_type": "stream",
     "text": [
      "['Hemant', [1, 2, 3], 45, 2.71, True]\n",
      "3\n"
     ]
    }
   ],
   "source": [
    "simple_list[1] = [1,2,3]\n",
    "print(simple_list)\n",
    "print(simple_list[1][2])"
   ]
  },
  {
   "cell_type": "code",
   "execution_count": 14,
   "metadata": {},
   "outputs": [
    {
     "name": "stdout",
     "output_type": "stream",
     "text": [
      "['Hemant', [1, 2, 3], 'Atmanirbhar', 2.71, True]\n",
      "['Hemant', [1, 2, 3], 'Atmanirbhar', 2.71, True]\n",
      "['Hemant', [1, 2, 3], 'Atmanirbhar', 2.71, True]\n"
     ]
    }
   ],
   "source": [
    "list2 = simple_list\n",
    "print(list2)\n",
    "list2[2] = 'Atmanirbhar'\n",
    "print(list2)\n",
    "print(simple_list)"
   ]
  },
  {
   "cell_type": "code",
   "execution_count": 16,
   "metadata": {},
   "outputs": [
    {
     "name": "stdout",
     "output_type": "stream",
     "text": [
      "['Hemant', [1, 2, 3], 'Atmanirbhar', 2.71, True]\n",
      "['Hemant', [1, 2, 3], 'Bharat', 2.71, True]\n",
      "['Hemant', [1, 2, 3], 'Atmanirbhar', 2.71, True]\n"
     ]
    }
   ],
   "source": [
    "list3 = simple_list.copy()\n",
    "print(list3)\n",
    "list3[2]='Bharat'\n",
    "print(list3)\n",
    "print(simple_list)"
   ]
  },
  {
   "cell_type": "code",
   "execution_count": 23,
   "metadata": {},
   "outputs": [
    {
     "name": "stdout",
     "output_type": "stream",
     "text": [
      "(1, 2, 44, 87, 'Sure')\n"
     ]
    },
    {
     "ename": "TypeError",
     "evalue": "'tuple' object does not support item assignment",
     "output_type": "error",
     "traceback": [
      "\u001b[0;31m---------------------------------------------------------------------------\u001b[0m",
      "\u001b[0;31mTypeError\u001b[0m                                 Traceback (most recent call last)",
      "\u001b[0;32m<ipython-input-23-b0b8f7784646>\u001b[0m in \u001b[0;36m<module>\u001b[0;34m\u001b[0m\n\u001b[1;32m      1\u001b[0m \u001b[0mtuple_eg\u001b[0m \u001b[0;34m=\u001b[0m \u001b[0;34m(\u001b[0m\u001b[0;36m1\u001b[0m\u001b[0;34m,\u001b[0m\u001b[0;36m2\u001b[0m\u001b[0;34m,\u001b[0m\u001b[0;36m44\u001b[0m\u001b[0;34m,\u001b[0m\u001b[0;36m87\u001b[0m\u001b[0;34m,\u001b[0m\u001b[0;34m'Sure'\u001b[0m\u001b[0;34m)\u001b[0m\u001b[0;34m\u001b[0m\u001b[0;34m\u001b[0m\u001b[0m\n\u001b[1;32m      2\u001b[0m \u001b[0mprint\u001b[0m\u001b[0;34m(\u001b[0m\u001b[0mtuple_eg\u001b[0m\u001b[0;34m)\u001b[0m\u001b[0;34m\u001b[0m\u001b[0;34m\u001b[0m\u001b[0m\n\u001b[0;32m----> 3\u001b[0;31m \u001b[0mtuple_eg\u001b[0m\u001b[0;34m[\u001b[0m\u001b[0;36m1\u001b[0m\u001b[0;34m]\u001b[0m \u001b[0;34m=\u001b[0m \u001b[0;36m9\u001b[0m\u001b[0;34m\u001b[0m\u001b[0;34m\u001b[0m\u001b[0m\n\u001b[0m\u001b[1;32m      4\u001b[0m \u001b[0;31m#print(tuple_eg)\u001b[0m\u001b[0;34m\u001b[0m\u001b[0;34m\u001b[0m\u001b[0;34m\u001b[0m\u001b[0m\n",
      "\u001b[0;31mTypeError\u001b[0m: 'tuple' object does not support item assignment"
     ]
    }
   ],
   "source": [
    "tuple_eg = (1,2,44,87,'Sure')\n",
    "print(tuple_eg)\n",
    "tuple_eg[1] = 9\n",
    "#print(tuple_eg)"
   ]
  },
  {
   "cell_type": "code",
   "execution_count": 39,
   "metadata": {},
   "outputs": [
    {
     "name": "stdout",
     "output_type": "stream",
     "text": [
      "[1, 2, 44, 87, 'Sure']\n",
      "[1, 9, 44, 87, 'Sure']\n",
      "(1, 9, 44, 87, 'Sure')\n",
      "9\n"
     ]
    }
   ],
   "source": [
    "simple_tuple = list(tuple_eg)\n",
    "print(simple_tuple)\n",
    "simple_tuple[1] = 9\n",
    "print(simple_tuple)\n",
    "final_tuple = tuple(simple_tuple)\n",
    "print(final_tuple)\n",
    "print(final_tuple[1])\n",
    "#final_tuple[0]=98"
   ]
  },
  {
   "cell_type": "code",
   "execution_count": 40,
   "metadata": {},
   "outputs": [
    {
     "name": "stdout",
     "output_type": "stream",
     "text": [
      "{34, 5, 7, 12, 'Genu', 'Babu'}\n",
      "False\n",
      "{34, 5, 7, 12, 'Genu', 'Modiji', 'Babu'}\n",
      "True\n"
     ]
    }
   ],
   "source": [
    "simple_set = {12,34,12,5,7,'Babu','Genu','Babu'}\n",
    "print(simple_set)\n",
    "print(70 in simple_set)\n",
    "simple_set.add('Modiji')\n",
    "print(simple_set)\n",
    "print('Modiji' in simple_set)"
   ]
  },
  {
   "cell_type": "code",
   "execution_count": 50,
   "metadata": {},
   "outputs": [
    {
     "name": "stdout",
     "output_type": "stream",
     "text": [
      "{'Brand': 'Apple', 'Product': 'Iphone', 'Model': 'XR'}\n",
      "I bought an  Iphone model  XR  from  Apple\n"
     ]
    }
   ],
   "source": [
    "simple_dict = {\n",
    "    'Brand':'Apple',\n",
    "    'Product':'Iphone',\n",
    "    'Model':'XR'\n",
    "} \n",
    "print(simple_dict)\n",
    "#i bought an iphone model XR from Apple\n",
    "print('I bought an ',simple_dict['Product'], 'model ',simple_dict['Model'], ' from ',simple_dict['Brand'])"
   ]
  },
  {
   "cell_type": "code",
   "execution_count": 54,
   "metadata": {},
   "outputs": [
    {
     "name": "stdout",
     "output_type": "stream",
     "text": [
      "[43, 1, 56, 'Hr', 98, 753]\n",
      "[56, 'Hr', 98]\n",
      "['Hr', 98]\n"
     ]
    }
   ],
   "source": [
    "simple_last_1 = [43,1,56,'Hr',98,753]\n",
    "print(simple_last_1)\n",
    "print(simple_last_1[2:5])\n",
    "print(simple_last_1[-3:-1])"
   ]
  }
 ],
 "metadata": {
  "kernelspec": {
   "display_name": "Python 3",
   "language": "python",
   "name": "python3"
  },
  "language_info": {
   "codemirror_mode": {
    "name": "ipython",
    "version": 3
   },
   "file_extension": ".py",
   "mimetype": "text/x-python",
   "name": "python",
   "nbconvert_exporter": "python",
   "pygments_lexer": "ipython3",
   "version": "3.7.6"
  }
 },
 "nbformat": 4,
 "nbformat_minor": 4
}
